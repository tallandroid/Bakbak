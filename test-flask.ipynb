{
 "cells": [
  {
   "cell_type": "code",
   "execution_count": 5,
   "metadata": {},
   "outputs": [
    {
     "name": "stdout",
     "output_type": "stream",
     "text": [
      "huggingface/tokenizers: The current process just got forked, after parallelism has already been used. Disabling parallelism to avoid deadlocks...\n",
      "To disable this warning, you can either:\n",
      "\t- Avoid using `tokenizers` before the fork if possible\n",
      "\t- Explicitly set the environment variable TOKENIZERS_PARALLELISM=(true | false)\n",
      "Requirement already satisfied: aiohttp==3.8.4 in /opt/homebrew/Caskroom/miniforge/base/lib/python3.10/site-packages (from -r requirements.txt (line 1)) (3.8.4)\n",
      "Requirement already satisfied: aiosignal==1.3.1 in /opt/homebrew/Caskroom/miniforge/base/lib/python3.10/site-packages (from -r requirements.txt (line 2)) (1.3.1)\n",
      "Requirement already satisfied: anyio==3.6.2 in /opt/homebrew/Caskroom/miniforge/base/lib/python3.10/site-packages (from -r requirements.txt (line 3)) (3.6.2)\n",
      "Requirement already satisfied: appnope==0.1.3 in /opt/homebrew/Caskroom/miniforge/base/lib/python3.10/site-packages (from -r requirements.txt (line 4)) (0.1.3)\n",
      "Requirement already satisfied: argon2-cffi==21.3.0 in /opt/homebrew/Caskroom/miniforge/base/lib/python3.10/site-packages (from -r requirements.txt (line 5)) (21.3.0)\n",
      "Requirement already satisfied: argon2-cffi-bindings==21.2.0 in /opt/homebrew/Caskroom/miniforge/base/lib/python3.10/site-packages (from -r requirements.txt (line 6)) (21.2.0)\n",
      "Requirement already satisfied: asttokens==2.0.8 in /opt/homebrew/Caskroom/miniforge/base/lib/python3.10/site-packages (from -r requirements.txt (line 7)) (2.0.8)\n",
      "Requirement already satisfied: async-timeout==4.0.2 in /opt/homebrew/Caskroom/miniforge/base/lib/python3.10/site-packages (from -r requirements.txt (line 8)) (4.0.2)\n",
      "Requirement already satisfied: attrs==22.1.0 in /opt/homebrew/Caskroom/miniforge/base/lib/python3.10/site-packages (from -r requirements.txt (line 9)) (22.1.0)\n",
      "Requirement already satisfied: backcall==0.2.0 in /opt/homebrew/Caskroom/miniforge/base/lib/python3.10/site-packages (from -r requirements.txt (line 10)) (0.2.0)\n",
      "Requirement already satisfied: beautifulsoup4==4.11.1 in /opt/homebrew/Caskroom/miniforge/base/lib/python3.10/site-packages (from -r requirements.txt (line 11)) (4.11.1)\n",
      "Requirement already satisfied: bleach==5.0.1 in /opt/homebrew/Caskroom/miniforge/base/lib/python3.10/site-packages (from -r requirements.txt (line 12)) (5.0.1)\n",
      "Requirement already satisfied: blinker==1.6.2 in /opt/homebrew/Caskroom/miniforge/base/lib/python3.10/site-packages (from -r requirements.txt (line 13)) (1.6.2)\n",
      "Requirement already satisfied: certifi==2023.5.7 in /opt/homebrew/Caskroom/miniforge/base/lib/python3.10/site-packages (from -r requirements.txt (line 14)) (2023.5.7)\n",
      "Requirement already satisfied: cffi==1.15.1 in /opt/homebrew/Caskroom/miniforge/base/lib/python3.10/site-packages (from -r requirements.txt (line 15)) (1.15.1)\n",
      "Requirement already satisfied: charset-normalizer==3.1.0 in /opt/homebrew/Caskroom/miniforge/base/lib/python3.10/site-packages (from -r requirements.txt (line 16)) (3.1.0)\n",
      "Requirement already satisfied: click==8.1.3 in /opt/homebrew/Caskroom/miniforge/base/lib/python3.10/site-packages (from -r requirements.txt (line 17)) (8.1.3)\n",
      "Requirement already satisfied: dataclasses-json==0.5.7 in /opt/homebrew/Caskroom/miniforge/base/lib/python3.10/site-packages (from -r requirements.txt (line 18)) (0.5.7)\n",
      "Requirement already satisfied: debugpy==1.6.3 in /opt/homebrew/Caskroom/miniforge/base/lib/python3.10/site-packages (from -r requirements.txt (line 19)) (1.6.3)\n",
      "Requirement already satisfied: decorator==5.1.1 in /opt/homebrew/Caskroom/miniforge/base/lib/python3.10/site-packages (from -r requirements.txt (line 20)) (5.1.1)\n",
      "Requirement already satisfied: defusedxml==0.7.1 in /opt/homebrew/Caskroom/miniforge/base/lib/python3.10/site-packages (from -r requirements.txt (line 21)) (0.7.1)\n",
      "Requirement already satisfied: entrypoints==0.4 in /opt/homebrew/Caskroom/miniforge/base/lib/python3.10/site-packages (from -r requirements.txt (line 22)) (0.4)\n",
      "Requirement already satisfied: executing==1.1.1 in /opt/homebrew/Caskroom/miniforge/base/lib/python3.10/site-packages (from -r requirements.txt (line 23)) (1.1.1)\n",
      "Requirement already satisfied: Flask==2.3.2 in /opt/homebrew/Caskroom/miniforge/base/lib/python3.10/site-packages (from -r requirements.txt (line 24)) (2.3.2)\n",
      "Requirement already satisfied: frozenlist==1.3.3 in /opt/homebrew/Caskroom/miniforge/base/lib/python3.10/site-packages (from -r requirements.txt (line 25)) (1.3.3)\n",
      "Requirement already satisfied: idna==3.4 in /opt/homebrew/Caskroom/miniforge/base/lib/python3.10/site-packages (from -r requirements.txt (line 26)) (3.4)\n",
      "Requirement already satisfied: ipykernel==6.16.1 in /opt/homebrew/Caskroom/miniforge/base/lib/python3.10/site-packages (from -r requirements.txt (line 27)) (6.16.1)\n",
      "Requirement already satisfied: ipython==8.5.0 in /opt/homebrew/Caskroom/miniforge/base/lib/python3.10/site-packages (from -r requirements.txt (line 28)) (8.5.0)\n",
      "Requirement already satisfied: ipython-genutils==0.2.0 in /opt/homebrew/Caskroom/miniforge/base/lib/python3.10/site-packages (from -r requirements.txt (line 29)) (0.2.0)\n",
      "Requirement already satisfied: ipywidgets==8.0.2 in /opt/homebrew/Caskroom/miniforge/base/lib/python3.10/site-packages (from -r requirements.txt (line 30)) (8.0.2)\n",
      "Requirement already satisfied: itsdangerous==2.1.2 in /opt/homebrew/Caskroom/miniforge/base/lib/python3.10/site-packages (from -r requirements.txt (line 31)) (2.1.2)\n",
      "Requirement already satisfied: jedi==0.18.1 in /opt/homebrew/Caskroom/miniforge/base/lib/python3.10/site-packages (from -r requirements.txt (line 32)) (0.18.1)\n",
      "Requirement already satisfied: Jinja2==3.1.2 in /opt/homebrew/Caskroom/miniforge/base/lib/python3.10/site-packages (from -r requirements.txt (line 33)) (3.1.2)\n",
      "Requirement already satisfied: jsonschema==4.16.0 in /opt/homebrew/Caskroom/miniforge/base/lib/python3.10/site-packages (from -r requirements.txt (line 34)) (4.16.0)\n",
      "Requirement already satisfied: langchain>=0.0.190 in /opt/homebrew/Caskroom/miniforge/base/lib/python3.10/site-packages (from -r requirements.txt (line 35)) (0.0.207)\n",
      "Requirement already satisfied: MarkupSafe==2.1.1 in /opt/homebrew/Caskroom/miniforge/base/lib/python3.10/site-packages (from -r requirements.txt (line 36)) (2.1.1)\n",
      "Requirement already satisfied: marshmallow==3.19.0 in /opt/homebrew/Caskroom/miniforge/base/lib/python3.10/site-packages (from -r requirements.txt (line 37)) (3.19.0)\n",
      "Requirement already satisfied: marshmallow-enum==1.5.1 in /opt/homebrew/Caskroom/miniforge/base/lib/python3.10/site-packages (from -r requirements.txt (line 38)) (1.5.1)\n",
      "Requirement already satisfied: matplotlib-inline==0.1.6 in /opt/homebrew/Caskroom/miniforge/base/lib/python3.10/site-packages (from -r requirements.txt (line 39)) (0.1.6)\n",
      "Requirement already satisfied: mistune==2.0.4 in /opt/homebrew/Caskroom/miniforge/base/lib/python3.10/site-packages (from -r requirements.txt (line 40)) (2.0.4)\n",
      "Requirement already satisfied: multidict==6.0.4 in /opt/homebrew/Caskroom/miniforge/base/lib/python3.10/site-packages (from -r requirements.txt (line 41)) (6.0.4)\n",
      "Requirement already satisfied: mypy-extensions==1.0.0 in /opt/homebrew/Caskroom/miniforge/base/lib/python3.10/site-packages (from -r requirements.txt (line 42)) (1.0.0)\n",
      "Requirement already satisfied: nest-asyncio==1.5.6 in /opt/homebrew/Caskroom/miniforge/base/lib/python3.10/site-packages (from -r requirements.txt (line 43)) (1.5.6)\n",
      "Requirement already satisfied: numexpr==2.8.4 in /opt/homebrew/Caskroom/miniforge/base/lib/python3.10/site-packages (from -r requirements.txt (line 44)) (2.8.4)\n",
      "Requirement already satisfied: numpy==1.24.3 in /opt/homebrew/Caskroom/miniforge/base/lib/python3.10/site-packages (from -r requirements.txt (line 45)) (1.24.3)\n",
      "Requirement already satisfied: openapi-schema-pydantic==1.2.4 in /opt/homebrew/Caskroom/miniforge/base/lib/python3.10/site-packages (from -r requirements.txt (line 46)) (1.2.4)\n",
      "Requirement already satisfied: packaging==21.3 in /opt/homebrew/Caskroom/miniforge/base/lib/python3.10/site-packages (from -r requirements.txt (line 47)) (21.3)\n",
      "Requirement already satisfied: pandocfilters==1.5.0 in /opt/homebrew/Caskroom/miniforge/base/lib/python3.10/site-packages (from -r requirements.txt (line 48)) (1.5.0)\n",
      "Requirement already satisfied: parso==0.8.3 in /opt/homebrew/Caskroom/miniforge/base/lib/python3.10/site-packages (from -r requirements.txt (line 49)) (0.8.3)\n",
      "Requirement already satisfied: pexpect==4.8.0 in /opt/homebrew/Caskroom/miniforge/base/lib/python3.10/site-packages (from -r requirements.txt (line 50)) (4.8.0)\n",
      "Requirement already satisfied: pickleshare==0.7.5 in /opt/homebrew/Caskroom/miniforge/base/lib/python3.10/site-packages (from -r requirements.txt (line 51)) (0.7.5)\n",
      "Requirement already satisfied: prompt-toolkit==3.0.31 in /opt/homebrew/Caskroom/miniforge/base/lib/python3.10/site-packages (from -r requirements.txt (line 52)) (3.0.31)\n",
      "Requirement already satisfied: psutil==5.9.3 in /opt/homebrew/Caskroom/miniforge/base/lib/python3.10/site-packages (from -r requirements.txt (line 53)) (5.9.3)\n",
      "Requirement already satisfied: ptyprocess==0.7.0 in /opt/homebrew/Caskroom/miniforge/base/lib/python3.10/site-packages (from -r requirements.txt (line 54)) (0.7.0)\n",
      "Requirement already satisfied: pure-eval==0.2.2 in /opt/homebrew/Caskroom/miniforge/base/lib/python3.10/site-packages (from -r requirements.txt (line 55)) (0.2.2)\n",
      "Requirement already satisfied: pycparser==2.21 in /opt/homebrew/Caskroom/miniforge/base/lib/python3.10/site-packages (from -r requirements.txt (line 56)) (2.21)\n",
      "Requirement already satisfied: pydantic==1.10.9 in /opt/homebrew/Caskroom/miniforge/base/lib/python3.10/site-packages (from -r requirements.txt (line 57)) (1.10.9)\n",
      "Requirement already satisfied: Pygments==2.13.0 in /opt/homebrew/Caskroom/miniforge/base/lib/python3.10/site-packages (from -r requirements.txt (line 58)) (2.13.0)\n",
      "Requirement already satisfied: pyparsing==3.0.9 in /opt/homebrew/Caskroom/miniforge/base/lib/python3.10/site-packages (from -r requirements.txt (line 59)) (3.0.9)\n",
      "Requirement already satisfied: pyrsistent==0.18.1 in /opt/homebrew/Caskroom/miniforge/base/lib/python3.10/site-packages (from -r requirements.txt (line 60)) (0.18.1)\n",
      "Requirement already satisfied: python-dateutil==2.8.2 in /opt/homebrew/Caskroom/miniforge/base/lib/python3.10/site-packages (from -r requirements.txt (line 61)) (2.8.2)\n",
      "Requirement already satisfied: PyYAML==6.0 in /opt/homebrew/Caskroom/miniforge/base/lib/python3.10/site-packages (from -r requirements.txt (line 62)) (6.0)\n",
      "Requirement already satisfied: pyzmq==24.0.1 in /opt/homebrew/Caskroom/miniforge/base/lib/python3.10/site-packages (from -r requirements.txt (line 63)) (24.0.1)\n",
      "Requirement already satisfied: qtconsole==5.3.2 in /opt/homebrew/Caskroom/miniforge/base/lib/python3.10/site-packages (from -r requirements.txt (line 64)) (5.3.2)\n",
      "Requirement already satisfied: QtPy==2.2.1 in /opt/homebrew/Caskroom/miniforge/base/lib/python3.10/site-packages (from -r requirements.txt (line 65)) (2.2.1)\n",
      "Requirement already satisfied: requests==2.31.0 in /opt/homebrew/Caskroom/miniforge/base/lib/python3.10/site-packages (from -r requirements.txt (line 66)) (2.31.0)\n",
      "Requirement already satisfied: Send2Trash==1.8.0 in /opt/homebrew/Caskroom/miniforge/base/lib/python3.10/site-packages (from -r requirements.txt (line 67)) (1.8.0)\n",
      "Requirement already satisfied: six==1.16.0 in /opt/homebrew/Caskroom/miniforge/base/lib/python3.10/site-packages (from -r requirements.txt (line 68)) (1.16.0)\n",
      "Requirement already satisfied: sniffio==1.3.0 in /opt/homebrew/Caskroom/miniforge/base/lib/python3.10/site-packages (from -r requirements.txt (line 69)) (1.3.0)\n",
      "Requirement already satisfied: soupsieve==2.3.2.post1 in /opt/homebrew/Caskroom/miniforge/base/lib/python3.10/site-packages (from -r requirements.txt (line 70)) (2.3.2.post1)\n",
      "Requirement already satisfied: SQLAlchemy==2.0.16 in /opt/homebrew/Caskroom/miniforge/base/lib/python3.10/site-packages (from -r requirements.txt (line 71)) (2.0.16)\n",
      "Requirement already satisfied: tenacity==8.2.2 in /opt/homebrew/Caskroom/miniforge/base/lib/python3.10/site-packages (from -r requirements.txt (line 72)) (8.2.2)\n",
      "Requirement already satisfied: terminado==0.16.0 in /opt/homebrew/Caskroom/miniforge/base/lib/python3.10/site-packages (from -r requirements.txt (line 73)) (0.16.0)\n",
      "Requirement already satisfied: tinycss2==1.2.1 in /opt/homebrew/Caskroom/miniforge/base/lib/python3.10/site-packages (from -r requirements.txt (line 74)) (1.2.1)\n",
      "Requirement already satisfied: tornado==6.2 in /opt/homebrew/Caskroom/miniforge/base/lib/python3.10/site-packages (from -r requirements.txt (line 75)) (6.2)\n",
      "Requirement already satisfied: traitlets==5.5.0 in /opt/homebrew/Caskroom/miniforge/base/lib/python3.10/site-packages (from -r requirements.txt (line 76)) (5.5.0)\n",
      "Requirement already satisfied: typing-inspect==0.9.0 in /opt/homebrew/Caskroom/miniforge/base/lib/python3.10/site-packages (from -r requirements.txt (line 77)) (0.9.0)\n",
      "Requirement already satisfied: typing_extensions==4.6.3 in /opt/homebrew/Caskroom/miniforge/base/lib/python3.10/site-packages (from -r requirements.txt (line 78)) (4.6.3)\n",
      "Requirement already satisfied: urllib3==2.0.3 in /opt/homebrew/Caskroom/miniforge/base/lib/python3.10/site-packages (from -r requirements.txt (line 79)) (2.0.3)\n",
      "Requirement already satisfied: wcwidth==0.2.5 in /opt/homebrew/Caskroom/miniforge/base/lib/python3.10/site-packages (from -r requirements.txt (line 80)) (0.2.5)\n",
      "Requirement already satisfied: webencodings==0.5.1 in /opt/homebrew/Caskroom/miniforge/base/lib/python3.10/site-packages (from -r requirements.txt (line 81)) (0.5.1)\n",
      "Requirement already satisfied: websocket-client==1.4.1 in /opt/homebrew/Caskroom/miniforge/base/lib/python3.10/site-packages (from -r requirements.txt (line 82)) (1.4.1)\n",
      "Requirement already satisfied: Werkzeug==2.3.6 in /opt/homebrew/Caskroom/miniforge/base/lib/python3.10/site-packages (from -r requirements.txt (line 83)) (2.3.6)\n",
      "Requirement already satisfied: widgetsnbextension==4.0.3 in /opt/homebrew/Caskroom/miniforge/base/lib/python3.10/site-packages (from -r requirements.txt (line 84)) (4.0.3)\n",
      "Requirement already satisfied: yarl==1.9.2 in /opt/homebrew/Caskroom/miniforge/base/lib/python3.10/site-packages (from -r requirements.txt (line 85)) (1.9.2)\n",
      "Requirement already satisfied: openai==0.27.8 in /opt/homebrew/Caskroom/miniforge/base/lib/python3.10/site-packages (from -r requirements.txt (line 86)) (0.27.8)\n",
      "Requirement already satisfied: jupyter-client>=6.1.12 in /opt/homebrew/Caskroom/miniforge/base/lib/python3.10/site-packages (from ipykernel==6.16.1->-r requirements.txt (line 27)) (7.4.7)\n",
      "Requirement already satisfied: stack-data in /opt/homebrew/Caskroom/miniforge/base/lib/python3.10/site-packages (from ipython==8.5.0->-r requirements.txt (line 28)) (0.5.1)\n",
      "Requirement already satisfied: jupyterlab-widgets~=3.0 in /opt/homebrew/Caskroom/miniforge/base/lib/python3.10/site-packages (from ipywidgets==8.0.2->-r requirements.txt (line 30)) (3.0.7)\n",
      "Requirement already satisfied: jupyter-core in /opt/homebrew/Caskroom/miniforge/base/lib/python3.10/site-packages (from qtconsole==5.3.2->-r requirements.txt (line 64)) (5.0.0)\n",
      "Requirement already satisfied: tqdm in /opt/homebrew/Caskroom/miniforge/base/lib/python3.10/site-packages (from openai==0.27.8->-r requirements.txt (line 86)) (4.65.0)\n",
      "Requirement already satisfied: langchainplus-sdk>=0.0.13 in /opt/homebrew/Caskroom/miniforge/base/lib/python3.10/site-packages (from langchain>=0.0.190->-r requirements.txt (line 35)) (0.0.16)\n",
      "Requirement already satisfied: platformdirs in /opt/homebrew/Caskroom/miniforge/base/lib/python3.10/site-packages (from jupyter-core->qtconsole==5.3.2->-r requirements.txt (line 64)) (2.5.2)\n"
     ]
    }
   ],
   "source": [
    "!pip install -r requirements.txt"
   ]
  },
  {
   "cell_type": "code",
   "execution_count": 6,
   "metadata": {},
   "outputs": [],
   "source": [
    "from app.docs.docs_scan_accessor import DocsScanAccessor\n",
    "from app.prompts.prompt_generator import PromptGenerator\n",
    "from app.response_generator import ResponseGenerator\n",
    "\n",
    "prompt_generator = PromptGenerator()\n",
    "docs_accessor = DocsScanAccessor()\n",
    "response_generator = ResponseGenerator()"
   ]
  },
  {
   "attachments": {},
   "cell_type": "markdown",
   "metadata": {},
   "source": [
    "### Valid Prompt\n",
    "Test below takes a valid user input in context of the conversation and returns a response"
   ]
  },
  {
   "cell_type": "code",
   "execution_count": 7,
   "metadata": {},
   "outputs": [
    {
     "name": "stdout",
     "output_type": "stream",
     "text": [
      "\n",
      "You can book tickets online at www.airindiaexpress.in, over the counter at any of Air India Express' airport or city offices, or through one of our approved Travel Agents. You can also book through our 24x7 Call Centre @ 0091-44-40013001.\n"
     ]
    }
   ],
   "source": [
    "user_input = \"How do I go about booking the tickets?\"\n",
    "docs = docs_accessor.retrieve_scan_docs(user_input)\n",
    "prompt = prompt_generator.generate_prompt(user_input, docs)\n",
    "print(response_generator.get_generated_response(prompt))"
   ]
  },
  {
   "attachments": {},
   "cell_type": "markdown",
   "metadata": {},
   "source": [
    "### Grounding support\n",
    "Just to ensure there is enough grounding and model not generating random output, we should try with a random input also"
   ]
  },
  {
   "cell_type": "code",
   "execution_count": 8,
   "metadata": {},
   "outputs": [
    {
     "name": "stdout",
     "output_type": "stream",
     "text": [
      "\n",
      "I'm sorry, I don't know.\n"
     ]
    }
   ],
   "source": [
    "user_input = \"Who let the dogs out?\"\n",
    "docs = docs_accessor.retrieve_scan_docs(user_input)\n",
    "prompt = prompt_generator.generate_prompt(user_input, docs)\n",
    "print(response_generator.get_generated_response(prompt))"
   ]
  }
 ],
 "metadata": {
  "kernelspec": {
   "display_name": "privateChatGPT",
   "language": "python",
   "name": "python3"
  },
  "language_info": {
   "codemirror_mode": {
    "name": "ipython",
    "version": 3
   },
   "file_extension": ".py",
   "mimetype": "text/x-python",
   "name": "python",
   "nbconvert_exporter": "python",
   "pygments_lexer": "ipython3",
   "version": "3.10.6"
  },
  "orig_nbformat": 4
 },
 "nbformat": 4,
 "nbformat_minor": 2
}
