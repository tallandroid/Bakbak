{
 "cells": [
  {
   "cell_type": "code",
   "execution_count": 1,
   "metadata": {},
   "outputs": [
    {
     "name": "stdout",
     "output_type": "stream",
     "text": [
      "Requirement already satisfied: aiohttp==3.8.4 in /opt/homebrew/Caskroom/miniforge/base/lib/python3.10/site-packages (from -r requirements.txt (line 1)) (3.8.4)\n",
      "Requirement already satisfied: aiosignal==1.3.1 in /opt/homebrew/Caskroom/miniforge/base/lib/python3.10/site-packages (from -r requirements.txt (line 2)) (1.3.1)\n",
      "Requirement already satisfied: anyio==3.6.2 in /opt/homebrew/Caskroom/miniforge/base/lib/python3.10/site-packages (from -r requirements.txt (line 3)) (3.6.2)\n",
      "Requirement already satisfied: appnope==0.1.3 in /opt/homebrew/Caskroom/miniforge/base/lib/python3.10/site-packages (from -r requirements.txt (line 4)) (0.1.3)\n",
      "Requirement already satisfied: argon2-cffi==21.3.0 in /opt/homebrew/Caskroom/miniforge/base/lib/python3.10/site-packages (from -r requirements.txt (line 5)) (21.3.0)\n",
      "Requirement already satisfied: argon2-cffi-bindings==21.2.0 in /opt/homebrew/Caskroom/miniforge/base/lib/python3.10/site-packages (from -r requirements.txt (line 6)) (21.2.0)\n",
      "Requirement already satisfied: asttokens==2.0.8 in /opt/homebrew/Caskroom/miniforge/base/lib/python3.10/site-packages (from -r requirements.txt (line 7)) (2.0.8)\n",
      "Requirement already satisfied: async-timeout==4.0.2 in /opt/homebrew/Caskroom/miniforge/base/lib/python3.10/site-packages (from -r requirements.txt (line 8)) (4.0.2)\n",
      "Requirement already satisfied: attrs==22.1.0 in /opt/homebrew/Caskroom/miniforge/base/lib/python3.10/site-packages (from -r requirements.txt (line 9)) (22.1.0)\n",
      "Requirement already satisfied: backcall==0.2.0 in /opt/homebrew/Caskroom/miniforge/base/lib/python3.10/site-packages (from -r requirements.txt (line 10)) (0.2.0)\n",
      "Requirement already satisfied: beautifulsoup4==4.11.1 in /opt/homebrew/Caskroom/miniforge/base/lib/python3.10/site-packages (from -r requirements.txt (line 11)) (4.11.1)\n",
      "Requirement already satisfied: bleach==5.0.1 in /opt/homebrew/Caskroom/miniforge/base/lib/python3.10/site-packages (from -r requirements.txt (line 12)) (5.0.1)\n",
      "Requirement already satisfied: blinker==1.6.2 in /opt/homebrew/Caskroom/miniforge/base/lib/python3.10/site-packages (from -r requirements.txt (line 13)) (1.6.2)\n",
      "Requirement already satisfied: certifi==2023.5.7 in /opt/homebrew/Caskroom/miniforge/base/lib/python3.10/site-packages (from -r requirements.txt (line 14)) (2023.5.7)\n",
      "Requirement already satisfied: cffi==1.15.1 in /opt/homebrew/Caskroom/miniforge/base/lib/python3.10/site-packages (from -r requirements.txt (line 15)) (1.15.1)\n",
      "Requirement already satisfied: charset-normalizer==3.1.0 in /opt/homebrew/Caskroom/miniforge/base/lib/python3.10/site-packages (from -r requirements.txt (line 16)) (3.1.0)\n",
      "Requirement already satisfied: click==8.1.3 in /opt/homebrew/Caskroom/miniforge/base/lib/python3.10/site-packages (from -r requirements.txt (line 17)) (8.1.3)\n",
      "Requirement already satisfied: dataclasses-json==0.5.7 in /opt/homebrew/Caskroom/miniforge/base/lib/python3.10/site-packages (from -r requirements.txt (line 18)) (0.5.7)\n",
      "Requirement already satisfied: debugpy==1.6.3 in /opt/homebrew/Caskroom/miniforge/base/lib/python3.10/site-packages (from -r requirements.txt (line 19)) (1.6.3)\n",
      "Requirement already satisfied: decorator==5.1.1 in /opt/homebrew/Caskroom/miniforge/base/lib/python3.10/site-packages (from -r requirements.txt (line 20)) (5.1.1)\n",
      "Requirement already satisfied: defusedxml==0.7.1 in /opt/homebrew/Caskroom/miniforge/base/lib/python3.10/site-packages (from -r requirements.txt (line 21)) (0.7.1)\n",
      "Requirement already satisfied: entrypoints==0.4 in /opt/homebrew/Caskroom/miniforge/base/lib/python3.10/site-packages (from -r requirements.txt (line 22)) (0.4)\n",
      "Requirement already satisfied: executing==1.1.1 in /opt/homebrew/Caskroom/miniforge/base/lib/python3.10/site-packages (from -r requirements.txt (line 23)) (1.1.1)\n",
      "Requirement already satisfied: Flask==2.3.2 in /opt/homebrew/Caskroom/miniforge/base/lib/python3.10/site-packages (from -r requirements.txt (line 24)) (2.3.2)\n",
      "Requirement already satisfied: frozenlist==1.3.3 in /opt/homebrew/Caskroom/miniforge/base/lib/python3.10/site-packages (from -r requirements.txt (line 25)) (1.3.3)\n",
      "Requirement already satisfied: idna==3.4 in /opt/homebrew/Caskroom/miniforge/base/lib/python3.10/site-packages (from -r requirements.txt (line 26)) (3.4)\n",
      "Requirement already satisfied: ipykernel==6.16.1 in /opt/homebrew/Caskroom/miniforge/base/lib/python3.10/site-packages (from -r requirements.txt (line 27)) (6.16.1)\n",
      "Requirement already satisfied: ipython==8.5.0 in /opt/homebrew/Caskroom/miniforge/base/lib/python3.10/site-packages (from -r requirements.txt (line 28)) (8.5.0)\n",
      "Requirement already satisfied: ipython-genutils==0.2.0 in /opt/homebrew/Caskroom/miniforge/base/lib/python3.10/site-packages (from -r requirements.txt (line 29)) (0.2.0)\n",
      "Requirement already satisfied: ipywidgets==8.0.2 in /opt/homebrew/Caskroom/miniforge/base/lib/python3.10/site-packages (from -r requirements.txt (line 30)) (8.0.2)\n",
      "Requirement already satisfied: itsdangerous==2.1.2 in /opt/homebrew/Caskroom/miniforge/base/lib/python3.10/site-packages (from -r requirements.txt (line 31)) (2.1.2)\n",
      "Requirement already satisfied: jedi==0.18.1 in /opt/homebrew/Caskroom/miniforge/base/lib/python3.10/site-packages (from -r requirements.txt (line 32)) (0.18.1)\n",
      "Requirement already satisfied: Jinja2==3.1.2 in /opt/homebrew/Caskroom/miniforge/base/lib/python3.10/site-packages (from -r requirements.txt (line 33)) (3.1.2)\n",
      "Requirement already satisfied: jsonschema==4.16.0 in /opt/homebrew/Caskroom/miniforge/base/lib/python3.10/site-packages (from -r requirements.txt (line 34)) (4.16.0)\n",
      "Requirement already satisfied: langchain>=0.0.190 in /opt/homebrew/Caskroom/miniforge/base/lib/python3.10/site-packages (from -r requirements.txt (line 35)) (0.0.207)\n",
      "Requirement already satisfied: MarkupSafe==2.1.1 in /opt/homebrew/Caskroom/miniforge/base/lib/python3.10/site-packages (from -r requirements.txt (line 36)) (2.1.1)\n",
      "Requirement already satisfied: marshmallow==3.19.0 in /opt/homebrew/Caskroom/miniforge/base/lib/python3.10/site-packages (from -r requirements.txt (line 37)) (3.19.0)\n",
      "Requirement already satisfied: marshmallow-enum==1.5.1 in /opt/homebrew/Caskroom/miniforge/base/lib/python3.10/site-packages (from -r requirements.txt (line 38)) (1.5.1)\n",
      "Requirement already satisfied: matplotlib-inline==0.1.6 in /opt/homebrew/Caskroom/miniforge/base/lib/python3.10/site-packages (from -r requirements.txt (line 39)) (0.1.6)\n",
      "Requirement already satisfied: mistune==2.0.4 in /opt/homebrew/Caskroom/miniforge/base/lib/python3.10/site-packages (from -r requirements.txt (line 40)) (2.0.4)\n",
      "Requirement already satisfied: multidict==6.0.4 in /opt/homebrew/Caskroom/miniforge/base/lib/python3.10/site-packages (from -r requirements.txt (line 41)) (6.0.4)\n",
      "Requirement already satisfied: mypy-extensions==1.0.0 in /opt/homebrew/Caskroom/miniforge/base/lib/python3.10/site-packages (from -r requirements.txt (line 42)) (1.0.0)\n",
      "Requirement already satisfied: nest-asyncio==1.5.6 in /opt/homebrew/Caskroom/miniforge/base/lib/python3.10/site-packages (from -r requirements.txt (line 43)) (1.5.6)\n",
      "Requirement already satisfied: numexpr==2.8.4 in /opt/homebrew/Caskroom/miniforge/base/lib/python3.10/site-packages (from -r requirements.txt (line 44)) (2.8.4)\n",
      "Requirement already satisfied: numpy==1.24.3 in /opt/homebrew/Caskroom/miniforge/base/lib/python3.10/site-packages (from -r requirements.txt (line 45)) (1.24.3)\n",
      "Requirement already satisfied: openapi-schema-pydantic==1.2.4 in /opt/homebrew/Caskroom/miniforge/base/lib/python3.10/site-packages (from -r requirements.txt (line 46)) (1.2.4)\n",
      "Requirement already satisfied: packaging==21.3 in /opt/homebrew/Caskroom/miniforge/base/lib/python3.10/site-packages (from -r requirements.txt (line 47)) (21.3)\n",
      "Requirement already satisfied: pandocfilters==1.5.0 in /opt/homebrew/Caskroom/miniforge/base/lib/python3.10/site-packages (from -r requirements.txt (line 48)) (1.5.0)\n",
      "Requirement already satisfied: parso==0.8.3 in /opt/homebrew/Caskroom/miniforge/base/lib/python3.10/site-packages (from -r requirements.txt (line 49)) (0.8.3)\n",
      "Requirement already satisfied: pexpect==4.8.0 in /opt/homebrew/Caskroom/miniforge/base/lib/python3.10/site-packages (from -r requirements.txt (line 50)) (4.8.0)\n",
      "Requirement already satisfied: pickleshare==0.7.5 in /opt/homebrew/Caskroom/miniforge/base/lib/python3.10/site-packages (from -r requirements.txt (line 51)) (0.7.5)\n",
      "Requirement already satisfied: prompt-toolkit==3.0.31 in /opt/homebrew/Caskroom/miniforge/base/lib/python3.10/site-packages (from -r requirements.txt (line 52)) (3.0.31)\n",
      "Requirement already satisfied: psutil==5.9.3 in /opt/homebrew/Caskroom/miniforge/base/lib/python3.10/site-packages (from -r requirements.txt (line 53)) (5.9.3)\n",
      "Requirement already satisfied: ptyprocess==0.7.0 in /opt/homebrew/Caskroom/miniforge/base/lib/python3.10/site-packages (from -r requirements.txt (line 54)) (0.7.0)\n",
      "Requirement already satisfied: pure-eval==0.2.2 in /opt/homebrew/Caskroom/miniforge/base/lib/python3.10/site-packages (from -r requirements.txt (line 55)) (0.2.2)\n",
      "Requirement already satisfied: pycparser==2.21 in /opt/homebrew/Caskroom/miniforge/base/lib/python3.10/site-packages (from -r requirements.txt (line 56)) (2.21)\n",
      "Requirement already satisfied: pydantic==1.10.9 in /opt/homebrew/Caskroom/miniforge/base/lib/python3.10/site-packages (from -r requirements.txt (line 57)) (1.10.9)\n",
      "Requirement already satisfied: Pygments==2.13.0 in /opt/homebrew/Caskroom/miniforge/base/lib/python3.10/site-packages (from -r requirements.txt (line 58)) (2.13.0)\n",
      "Requirement already satisfied: pyparsing==3.0.9 in /opt/homebrew/Caskroom/miniforge/base/lib/python3.10/site-packages (from -r requirements.txt (line 59)) (3.0.9)\n",
      "Requirement already satisfied: pyrsistent==0.18.1 in /opt/homebrew/Caskroom/miniforge/base/lib/python3.10/site-packages (from -r requirements.txt (line 60)) (0.18.1)\n",
      "Requirement already satisfied: python-dateutil==2.8.2 in /opt/homebrew/Caskroom/miniforge/base/lib/python3.10/site-packages (from -r requirements.txt (line 61)) (2.8.2)\n",
      "Requirement already satisfied: PyYAML==6.0 in /opt/homebrew/Caskroom/miniforge/base/lib/python3.10/site-packages (from -r requirements.txt (line 62)) (6.0)\n",
      "Requirement already satisfied: pyzmq==24.0.1 in /opt/homebrew/Caskroom/miniforge/base/lib/python3.10/site-packages (from -r requirements.txt (line 63)) (24.0.1)\n",
      "Requirement already satisfied: qtconsole==5.3.2 in /opt/homebrew/Caskroom/miniforge/base/lib/python3.10/site-packages (from -r requirements.txt (line 64)) (5.3.2)\n",
      "Requirement already satisfied: QtPy==2.2.1 in /opt/homebrew/Caskroom/miniforge/base/lib/python3.10/site-packages (from -r requirements.txt (line 65)) (2.2.1)\n",
      "Requirement already satisfied: requests==2.31.0 in /opt/homebrew/Caskroom/miniforge/base/lib/python3.10/site-packages (from -r requirements.txt (line 66)) (2.31.0)\n",
      "Requirement already satisfied: Send2Trash==1.8.0 in /opt/homebrew/Caskroom/miniforge/base/lib/python3.10/site-packages (from -r requirements.txt (line 67)) (1.8.0)\n",
      "Requirement already satisfied: six==1.16.0 in /opt/homebrew/Caskroom/miniforge/base/lib/python3.10/site-packages (from -r requirements.txt (line 68)) (1.16.0)\n",
      "Requirement already satisfied: sniffio==1.3.0 in /opt/homebrew/Caskroom/miniforge/base/lib/python3.10/site-packages (from -r requirements.txt (line 69)) (1.3.0)\n",
      "Requirement already satisfied: soupsieve==2.3.2.post1 in /opt/homebrew/Caskroom/miniforge/base/lib/python3.10/site-packages (from -r requirements.txt (line 70)) (2.3.2.post1)\n",
      "Requirement already satisfied: SQLAlchemy==2.0.16 in /opt/homebrew/Caskroom/miniforge/base/lib/python3.10/site-packages (from -r requirements.txt (line 71)) (2.0.16)\n",
      "Requirement already satisfied: tenacity==8.2.2 in /opt/homebrew/Caskroom/miniforge/base/lib/python3.10/site-packages (from -r requirements.txt (line 72)) (8.2.2)\n",
      "Requirement already satisfied: terminado==0.16.0 in /opt/homebrew/Caskroom/miniforge/base/lib/python3.10/site-packages (from -r requirements.txt (line 73)) (0.16.0)\n",
      "Requirement already satisfied: tinycss2==1.2.1 in /opt/homebrew/Caskroom/miniforge/base/lib/python3.10/site-packages (from -r requirements.txt (line 74)) (1.2.1)\n",
      "Requirement already satisfied: tornado==6.2 in /opt/homebrew/Caskroom/miniforge/base/lib/python3.10/site-packages (from -r requirements.txt (line 75)) (6.2)\n",
      "Requirement already satisfied: traitlets==5.5.0 in /opt/homebrew/Caskroom/miniforge/base/lib/python3.10/site-packages (from -r requirements.txt (line 76)) (5.5.0)\n",
      "Requirement already satisfied: typing-inspect==0.9.0 in /opt/homebrew/Caskroom/miniforge/base/lib/python3.10/site-packages (from -r requirements.txt (line 77)) (0.9.0)\n",
      "Requirement already satisfied: typing_extensions==4.6.3 in /opt/homebrew/Caskroom/miniforge/base/lib/python3.10/site-packages (from -r requirements.txt (line 78)) (4.6.3)\n",
      "Requirement already satisfied: urllib3==2.0.3 in /opt/homebrew/Caskroom/miniforge/base/lib/python3.10/site-packages (from -r requirements.txt (line 79)) (2.0.3)\n",
      "Requirement already satisfied: wcwidth==0.2.5 in /opt/homebrew/Caskroom/miniforge/base/lib/python3.10/site-packages (from -r requirements.txt (line 80)) (0.2.5)\n",
      "Requirement already satisfied: webencodings==0.5.1 in /opt/homebrew/Caskroom/miniforge/base/lib/python3.10/site-packages (from -r requirements.txt (line 81)) (0.5.1)\n",
      "Requirement already satisfied: websocket-client==1.4.1 in /opt/homebrew/Caskroom/miniforge/base/lib/python3.10/site-packages (from -r requirements.txt (line 82)) (1.4.1)\n",
      "Requirement already satisfied: Werkzeug==2.3.6 in /opt/homebrew/Caskroom/miniforge/base/lib/python3.10/site-packages (from -r requirements.txt (line 83)) (2.3.6)\n",
      "Requirement already satisfied: widgetsnbextension==4.0.3 in /opt/homebrew/Caskroom/miniforge/base/lib/python3.10/site-packages (from -r requirements.txt (line 84)) (4.0.3)\n",
      "Requirement already satisfied: yarl==1.9.2 in /opt/homebrew/Caskroom/miniforge/base/lib/python3.10/site-packages (from -r requirements.txt (line 85)) (1.9.2)\n",
      "Requirement already satisfied: jupyter-client>=6.1.12 in /opt/homebrew/Caskroom/miniforge/base/lib/python3.10/site-packages (from ipykernel==6.16.1->-r requirements.txt (line 27)) (7.4.7)\n",
      "Requirement already satisfied: stack-data in /opt/homebrew/Caskroom/miniforge/base/lib/python3.10/site-packages (from ipython==8.5.0->-r requirements.txt (line 28)) (0.5.1)\n",
      "Requirement already satisfied: jupyterlab-widgets~=3.0 in /opt/homebrew/Caskroom/miniforge/base/lib/python3.10/site-packages (from ipywidgets==8.0.2->-r requirements.txt (line 30)) (3.0.7)\n",
      "Requirement already satisfied: jupyter-core in /opt/homebrew/Caskroom/miniforge/base/lib/python3.10/site-packages (from qtconsole==5.3.2->-r requirements.txt (line 64)) (5.0.0)\n",
      "Requirement already satisfied: langchainplus-sdk>=0.0.13 in /opt/homebrew/Caskroom/miniforge/base/lib/python3.10/site-packages (from langchain>=0.0.190->-r requirements.txt (line 35)) (0.0.16)\n",
      "Requirement already satisfied: platformdirs in /opt/homebrew/Caskroom/miniforge/base/lib/python3.10/site-packages (from jupyter-core->qtconsole==5.3.2->-r requirements.txt (line 64)) (2.5.2)\n",
      "Note: you may need to restart the kernel to use updated packages.\n"
     ]
    }
   ],
   "source": [
    "pip install -r requirements.txt"
   ]
  },
  {
   "cell_type": "code",
   "execution_count": 28,
   "metadata": {},
   "outputs": [
    {
     "name": "stdout",
     "output_type": "stream",
     "text": [
      "huggingface/tokenizers: The current process just got forked, after parallelism has already been used. Disabling parallelism to avoid deadlocks...\n",
      "To disable this warning, you can either:\n",
      "\t- Avoid using `tokenizers` before the fork if possible\n",
      "\t- Explicitly set the environment variable TOKENIZERS_PARALLELISM=(true | false)\n"
     ]
    },
    {
     "name": "stderr",
     "output_type": "stream",
     "text": [
      "74693.63s - pydevd: Sending message related to process being replaced timed-out after 5 seconds\n"
     ]
    },
    {
     "name": "stdout",
     "output_type": "stream",
     "text": [
      "Collecting jq\n",
      "  Downloading jq-1.4.1.tar.gz (2.7 MB)\n",
      "\u001b[2K     \u001b[90m━━━━━━━━━━━━━━━━━━━━━━━━━━━━━━━━━━━━━━━━\u001b[0m \u001b[32m2.7/2.7 MB\u001b[0m \u001b[31m19.8 kB/s\u001b[0m eta \u001b[36m0:00:00\u001b[0m00:01\u001b[0m00:04\u001b[0m\n",
      "\u001b[?25h  Installing build dependencies ... \u001b[?25ldone\n",
      "\u001b[?25h  Getting requirements to build wheel ... \u001b[?25ldone\n",
      "\u001b[?25h  Preparing metadata (pyproject.toml) ... \u001b[?25ldone\n",
      "\u001b[?25hBuilding wheels for collected packages: jq\n",
      "  Building wheel for jq (pyproject.toml) ... \u001b[?25ldone\n",
      "\u001b[?25h  Created wheel for jq: filename=jq-1.4.1-cp310-cp310-macosx_11_0_arm64.whl size=363536 sha256=040b7df864a0a72b17fa552560adce7d26500d3ebe35b31d27b4c8aa044b9931\n",
      "  Stored in directory: /Users/harshit/Library/Caches/pip/wheels/e7/21/87/04fa2a3a35a8b6df58498af915e1ae4209ecd2fc3a3fc602b6\n",
      "Successfully built jq\n",
      "Installing collected packages: jq\n",
      "Successfully installed jq-1.4.1\n",
      "Note: you may need to restart the kernel to use updated packages.\n"
     ]
    }
   ],
   "source": [
    "pip install jq"
   ]
  },
  {
   "cell_type": "code",
   "execution_count": 1,
   "metadata": {},
   "outputs": [],
   "source": [
    "from langchain.document_loaders.json_loader import JSONLoader\n",
    "from langchain.embeddings.huggingface import HuggingFaceEmbeddings\n",
    "from langchain.vectorstores import Chroma"
   ]
  },
  {
   "cell_type": "code",
   "execution_count": 21,
   "metadata": {},
   "outputs": [],
   "source": [
    "model_name = \"sentence-transformers/all-mpnet-base-v2\"\n",
    "model_kwargs = {'device': 'cpu'}\n",
    "encode_kwargs = {'normalize_embeddings': False}\n",
    "huggingface_embeddings = HuggingFaceEmbeddings(\n",
    "            model_name=model_name, \n",
    "            model_kwargs=model_kwargs, \n",
    "            encode_kwargs=encode_kwargs)\n",
    "jq_schema = '.[]'\n",
    "data = JSONLoader(file_path=\"./test_dataset.txt\", jq_schema=jq_schema, text_content=False)\n",
    "db = Chroma.from_documents(data.load(), huggingface_embeddings)"
   ]
  },
  {
   "cell_type": "code",
   "execution_count": 22,
   "metadata": {},
   "outputs": [
    {
     "data": {
      "text/plain": [
       "[Document(page_content='{\"Question\": \"How can I book a seat for my infant?\", \"Answer\": \"Booking an infant seat can be done through our contact centre or Air India Express overseas offices by requesting to make the booking under child category.\"}', metadata={'source': '/Users/harshit/Code/Bakbak/test_dataset.txt', 'seq_num': 3}),\n",
       " Document(page_content='{\"Question\": \"How do I book for an infant?\", \"Answer\": \"The same procedure has to be applied as is applicable for booking an adult. Infant must be booked with the accompanying adult. The date of birth has to be filled in while making the booking.\"}', metadata={'source': '/Users/harshit/Code/Bakbak/test_dataset.txt', 'seq_num': 35}),\n",
       " Document(page_content='{\"Question\": \"Can I pre-select a seat of my choice?\", \"Answer\": \"Seat selection is offered on most flights. You can select a seat of your choice while making your booking or purchase it later from Express Extras.\"}', metadata={'source': '/Users/harshit/Code/Bakbak/test_dataset.txt', 'seq_num': 16}),\n",
       " Document(page_content='{\"Question\": \"How do I make a request for specific seats?\", \"Answer\": \"Specific seats can be reserved in advance either at the time of booking or even after having made a booking by paying a nominal charge (atleast 24 hours prior the departure). Please view our Terms & Conditions under Seating for applicable charges. It is best to reserve a seat of your choice in advance to have a more comfortable journey. General FAQ\"}', metadata={'source': '/Users/harshit/Code/Bakbak/test_dataset.txt', 'seq_num': 43})]"
      ]
     },
     "execution_count": 22,
     "metadata": {},
     "output_type": "execute_result"
    }
   ],
   "source": [
    "db.similarity_search_by_vector(huggingface_embeddings.embed_query(\"How can I book seat for my infant?\"))"
   ]
  }
 ],
 "metadata": {
  "kernelspec": {
   "display_name": "privateChatGPT",
   "language": "python",
   "name": "python3"
  },
  "language_info": {
   "codemirror_mode": {
    "name": "ipython",
    "version": 3
   },
   "file_extension": ".py",
   "mimetype": "text/x-python",
   "name": "python",
   "nbconvert_exporter": "python",
   "pygments_lexer": "ipython3",
   "version": "3.10.6"
  },
  "orig_nbformat": 4
 },
 "nbformat": 4,
 "nbformat_minor": 2
}
